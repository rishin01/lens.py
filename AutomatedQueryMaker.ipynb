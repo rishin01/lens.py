{
 "cells": [
  {
   "cell_type": "code",
   "execution_count": 1,
   "id": "44cea5af-ac3f-4214-aac7-9c8d05113b71",
   "metadata": {},
   "outputs": [
    {
     "name": "stderr",
     "output_type": "stream",
     "text": [
      "Cloning into 'api-examples'...\n"
     ]
    }
   ],
   "source": [
    "!git clone https://github.com/lens-protocol/api-examples.git"
   ]
  },
  {
   "cell_type": "code",
   "execution_count": 2,
   "id": "a08e5bed-4587-407f-bd7e-deae6076ad23",
   "metadata": {},
   "outputs": [],
   "source": [
    "import os"
   ]
  },
  {
   "cell_type": "code",
   "execution_count": 4,
   "id": "f11e12fc-a36f-42bf-8576-8f1bba785c14",
   "metadata": {},
   "outputs": [],
   "source": [
    "root, dirs, files =next(os.walk('graphql'))"
   ]
  },
  {
   "cell_type": "code",
   "execution_count": 5,
   "id": "d7bf9feb-794e-4ac7-a352-7f992601929f",
   "metadata": {},
   "outputs": [
    {
     "data": {
      "text/plain": [
       "['add-reaction.graphql',\n",
       " 'approve-module.graphql',\n",
       " 'approved-allowance-of-modules.graphql',\n",
       " 'authenticate.graphql',\n",
       " 'broadcast.graphql',\n",
       " 'burn-profile.graphql',\n",
       " 'challenge.graphql',\n",
       " 'collect.graphql',\n",
       " 'comment.graphql',\n",
       " 'common.graphql',\n",
       " 'create-comment-via-dispatcher.graphql',\n",
       " 'create-mirror-via-dispatcher.graphql',\n",
       " 'create-post-via-dispatcher.graphql',\n",
       " 'create-profile.graphql',\n",
       " 'create-set-profile-image-uri-via-dispatcher.graphql',\n",
       " 'create-set-profile-metadata-via-dispatcher.graphql',\n",
       " 'dispatcher.graphql',\n",
       " 'does-follow.graphql',\n",
       " 'enabled-modules-currencies.graphql',\n",
       " 'enabled-modules.graphql',\n",
       " 'explore-profiles.graphql',\n",
       " 'explore-publications.graphql',\n",
       " 'follow.graphql',\n",
       " 'follower-nft-owned-token-ids.graphql',\n",
       " 'followers.graphql',\n",
       " 'following.graphql',\n",
       " 'generated.ts',\n",
       " 'get-default-profile.graphql',\n",
       " 'get-profile.graphql',\n",
       " 'get-profiles.graphql',\n",
       " 'get-publication.graphql',\n",
       " 'get-publications.graphql',\n",
       " 'get-users-nfts.graphql',\n",
       " 'global-protocol-stats.graphql',\n",
       " 'has-transaction-been-indexed.graphql',\n",
       " 'hide-publication.graphql',\n",
       " 'mirror.graphql',\n",
       " 'mutual-followers-profiles.graphql',\n",
       " 'nft-ownership-challenge.graphql',\n",
       " 'pending-approval-follows.graphql',\n",
       " 'ping.graphql',\n",
       " 'post.graphql',\n",
       " 'profile-feed.graphql',\n",
       " 'profile-follow-revenue.graphql',\n",
       " 'profile-publication-revenue.graphql',\n",
       " 'profile-publications-for-sale.graphql',\n",
       " 'proxy-action-status.graphql',\n",
       " 'proxy-action.graphql',\n",
       " 'publication-revenue.graphql',\n",
       " 'recommended-profiles.graphql',\n",
       " 'refresh.graphql',\n",
       " 'remove-reaction.graphql',\n",
       " 'report-publication.graphql',\n",
       " 'search-profiles.graphql',\n",
       " 'search-publications.graphql',\n",
       " 'set-default-profile.graphql',\n",
       " 'set-follow-module.graphql',\n",
       " 'set-follow-nft.graphql',\n",
       " 'set-profile-image-uri-nft.graphql',\n",
       " 'set-profile-image-uri-normal.graphql',\n",
       " 'set-update-profile-metadata.graphql',\n",
       " 'timeline.graphql',\n",
       " 'toggle-follow.graphql',\n",
       " 'unfollow.graphql',\n",
       " 'users-notifications.graphql',\n",
       " 'verify.graphql',\n",
       " 'who-collected-publication.graphql',\n",
       " 'who-reacted-publication.graphql']"
      ]
     },
     "execution_count": 5,
     "metadata": {},
     "output_type": "execute_result"
    }
   ],
   "source": [
    "files"
   ]
  },
  {
   "cell_type": "code",
   "execution_count": 7,
   "id": "6973aa56-dec0-4661-acf1-0f1cfc191aaa",
   "metadata": {},
   "outputs": [],
   "source": [
    "sql_queries = []"
   ]
  },
  {
   "cell_type": "code",
   "execution_count": 8,
   "id": "aec5d566-9ea8-4cf1-9172-32699ee60bc1",
   "metadata": {},
   "outputs": [],
   "source": [
    "for file in files:\n",
    "    with open(os.path.join(root,file)) as f:\n",
    "        sql_query = f.read()\n",
    "        sql_queries.append(sql_query)"
   ]
  },
  {
   "cell_type": "code",
   "execution_count": 13,
   "id": "d9a3468d-b35a-4319-9a4d-f47f24672965",
   "metadata": {},
   "outputs": [
    {
     "name": "stdout",
     "output_type": "stream",
     "text": [
      "common.graphql\n",
      "enabled-modules-currencies.graphql\n",
      "enabled-modules.graphql\n",
      "generated.ts\n",
      "ping.graphql\n",
      "proxy-action-status.graphql\n",
      "recommended-profiles.graphql\n"
     ]
    }
   ],
   "source": [
    "for i,sql_query in enumerate(sql_queries):\n",
    "    \n",
    "    if sql_query.count('$request') != 2:\n",
    "        print(files[i])"
   ]
  },
  {
   "cell_type": "code",
   "execution_count": 16,
   "id": "a81f81af-da17-4d00-b2e7-367267a9e94b",
   "metadata": {},
   "outputs": [
    {
     "name": "stdout",
     "output_type": "stream",
     "text": [
      "61\n"
     ]
    }
   ],
   "source": [
    "sql_queries_relevant = list(filter(lambda x: x.count('$request') ==2, sql_queries))\n",
    "print(len(sql_queries_relevant))"
   ]
  },
  {
   "cell_type": "code",
   "execution_count": 70,
   "id": "4af6e056-1c5f-49ba-8fb0-b0bbe03a5b99",
   "metadata": {},
   "outputs": [],
   "source": [
    "sql_queries_edited = []\n",
    "names = []\n",
    "for sql_query in sql_queries_relevant:\n",
    "    # print(sql_query)\n",
    "    first_index = sql_query.find('$request')\n",
    "    first_end_index = sql_query.find('!)',first_index)\n",
    "    \n",
    "    sql_query_edited = sql_query[0:first_index-1]+sql_query[first_end_index+2:]\n",
    "    sql_query_edited = sql_query_edited.replace('{','{{')\n",
    "    sql_query_edited = sql_query_edited.replace('}','}}')\n",
    "    \n",
    "    sql_query_edited = sql_query_edited.replace(\n",
    "        '$request',\n",
    "        \"\"\"\n",
    "        {{\n",
    "        {var_dict}}}\n",
    "        \"\"\")\n",
    "    \n",
    "    \n",
    "    name = sql_query_edited.split()[1]\n",
    "    if name != 'CreateSetProfileMetadataViaDispatcher(':\n",
    "        \n",
    "        names.append(name)\n",
    "    \n",
    "        sql_queries_edited.append(sql_query_edited)"
   ]
  },
  {
   "cell_type": "code",
   "execution_count": 71,
   "id": "fa783f4c-684f-486b-a20d-d8023aa6160a",
   "metadata": {},
   "outputs": [],
   "source": [
    "import textwrap\n",
    "wrapper = textwrap.TextWrapper(initial_indent = '\\t', subsequent_indent = '\\t')"
   ]
  },
  {
   "cell_type": "code",
   "execution_count": 72,
   "id": "c13d3d9a-7216-4980-8c33-7dd661ea2bbe",
   "metadata": {},
   "outputs": [],
   "source": [
    "with open('queries'+'.py','w') as f:\n",
    "    for name, sql_query in zip(names, sql_queries_edited):\n",
    "    \n",
    "    \n",
    "        f.write('def '+ name + '(var_dict)'+':'+'\\n')\n",
    "        \n",
    "        f.write('\\t'+'x=' + '\"')\n",
    "        f.write(sql_query.replace('\\n','').replace('\\t',''))\n",
    "        f.write('\"'+\".format(var_dict=var_dict)\"+'\\n'+'\\t')\n",
    "        f.write('return x' + '\\n'+'\\n')"
   ]
  },
  {
   "cell_type": "code",
   "execution_count": null,
   "id": "aad52502-5bb4-42eb-b1b9-0c42d99129d5",
   "metadata": {},
   "outputs": [],
   "source": []
  }
 ],
 "metadata": {
  "kernelspec": {
   "display_name": "Python 3 (ipykernel)",
   "language": "python",
   "name": "python3"
  },
  "language_info": {
   "codemirror_mode": {
    "name": "ipython",
    "version": 3
   },
   "file_extension": ".py",
   "mimetype": "text/x-python",
   "name": "python",
   "nbconvert_exporter": "python",
   "pygments_lexer": "ipython3",
   "version": "3.9.6"
  }
 },
 "nbformat": 4,
 "nbformat_minor": 5
}
