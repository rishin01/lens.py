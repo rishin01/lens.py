{
 "cells": [
  {
   "cell_type": "code",
   "execution_count": null,
   "metadata": {},
   "outputs": [],
   "source": []
  }
 ],
 "metadata": {
  "kernelspec": {
   "display_name": "Python 3.9.6 ('venv')",
   "language": "python",
   "name": "python3"
  },
  "language_info": {
   "name": "python",
   "version": "3.9.6"
  },
  "vscode": {
   "interpreter": {
    "hash": "069b2d277b0b7e77ea0519e7abe67b58141731f81c17b4946a05bf2c587673d4"
   }
  }
 },
 "nbformat": 4,
 "nbformat_minor": 5
}
